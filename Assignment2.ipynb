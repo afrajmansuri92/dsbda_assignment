{
  "nbformat": 4,
  "nbformat_minor": 0,
  "metadata": {
    "colab": {
      "name": "Assignment2.ipynb",
      "provenance": [],
      "collapsed_sections": []
    },
    "kernelspec": {
      "name": "python3",
      "display_name": "Python 3"
    },
    "language_info": {
      "name": "python"
    }
  },
  "cells": [
    {
      "cell_type": "code",
      "execution_count": null,
      "metadata": {
        "id": "MOfOImwNJ5qM"
      },
      "outputs": [],
      "source": [
        "# Importing libraries\n",
        "import pandas as pd\n",
        "import numpy as np\n",
        "import matplotlib.pyplot as plt\n",
        "import seaborn as sns"
      ]
    },
    {
      "cell_type": "code",
      "source": [
        "# Read csv file into a pandas dataframe\n",
        "df = pd.read_csv(\"data2.csv\")"
      ],
      "metadata": {
        "id": "Lo_67_AfZL0g"
      },
      "execution_count": null,
      "outputs": []
    },
    {
      "cell_type": "code",
      "source": [
        "# Take a look at dataset\n",
        "df"
      ],
      "metadata": {
        "id": "ZicUHkJYZXm7"
      },
      "execution_count": null,
      "outputs": []
    },
    {
      "cell_type": "code",
      "source": [
        "#Checking for the missing values\n",
        "print(df.isnull().sum())"
      ],
      "metadata": {
        "id": "2OzqMB8gZesj"
      },
      "execution_count": null,
      "outputs": []
    },
    {
      "cell_type": "code",
      "source": [
        "#In this column, there’s four missing values.  n.a   NA  ..   na\n",
        "# Making a list of missing value types\n",
        "missing_values = [\"n.a.\", \"na\", \"..\",\"n/a\",\"n.a\"]\n",
        "df = pd.read_csv(\"academic.csv\", na_values = missing_values)"
      ],
      "metadata": {
        "id": "E5sAXYIPZe0K"
      },
      "execution_count": null,
      "outputs": []
    },
    {
      "cell_type": "code",
      "source": [
        "#Checking for the missing values\n",
        "print(df.isnull().sum())"
      ],
      "metadata": {
        "id": "nDTbu8C0aMNd"
      },
      "execution_count": null,
      "outputs": []
    },
    {
      "cell_type": "code",
      "source": [
        "# drop all rows with atleast one NaN\n",
        "new_df = df.dropna(axis = 0, how ='any')  \n",
        "print(new_df)"
      ],
      "metadata": {
        "id": "w8R15fgVaWhg"
      },
      "execution_count": null,
      "outputs": []
    },
    {
      "cell_type": "code",
      "source": [
        "# drop all rows with all NaN\n",
        "new_df = df.dropna(axis = 0, how ='all')\n",
        "print(new_df)"
      ],
      "metadata": {
        "id": "a6s-kv30bzM4"
      },
      "execution_count": null,
      "outputs": []
    },
    {
      "cell_type": "code",
      "source": [
        "# drop all columns with atleast one NaN\n",
        "new_df = df.dropna(axis = 1, how ='any')\n",
        "print(new_df)"
      ],
      "metadata": {
        "id": "am3hhW_Qb_lX"
      },
      "execution_count": null,
      "outputs": []
    },
    {
      "cell_type": "code",
      "source": [
        "# drop all columns with all NaN\n",
        "new_df = df.dropna(axis = 1, how ='all')\n",
        "print(new_df)"
      ],
      "metadata": {
        "id": "3PDhfwWHcR8p"
      },
      "execution_count": null,
      "outputs": []
    },
    {
      "cell_type": "code",
      "source": [
        "# use fillna() to replace missing values in the ‘sub1’ column with 0.\n",
        "df['sub1'].fillna(0, inplace=True)# To check changes call\n",
        "print(df['sub1'])"
      ],
      "metadata": {
        "id": "jJLk3spYcoCW"
      },
      "execution_count": null,
      "outputs": []
    },
    {
      "cell_type": "code",
      "source": [
        "# use method = 'pad’ for taking values from the previous row.\n",
        "df['sub1'].fillna(method='pad', inplace=True)"
      ],
      "metadata": {
        "id": "lfquse96eLfb"
      },
      "execution_count": null,
      "outputs": []
    },
    {
      "cell_type": "code",
      "source": [
        "df['sub1']"
      ],
      "metadata": {
        "id": "YRMml7jLeUIy"
      },
      "execution_count": null,
      "outputs": []
    },
    {
      "cell_type": "code",
      "source": [
        "# use method = 'bfill’ for taking values from the next row.\n",
        "df['sub1'].fillna(method='bfill', inplace=True)"
      ],
      "metadata": {
        "id": "lr98wplwetpy"
      },
      "execution_count": null,
      "outputs": []
    },
    {
      "cell_type": "code",
      "source": [
        "# using median\n",
        "df['sub2'].fillna(df['sub2'].median(), inplace=True)"
      ],
      "metadata": {
        "id": "8LHIwTSEe0kc"
      },
      "execution_count": null,
      "outputs": []
    },
    {
      "cell_type": "code",
      "source": [
        "df['sub2']"
      ],
      "metadata": {
        "id": "94mnj7JxfVQE"
      },
      "execution_count": null,
      "outputs": []
    },
    {
      "cell_type": "code",
      "source": [
        "# using mean\n",
        "df['sub3'] = df['sub3'].replace(np.NaN, df['sub3'].mean())\n",
        "df['sub3'][:10]"
      ],
      "metadata": {
        "id": "a47ClabOhVLT"
      },
      "execution_count": null,
      "outputs": []
    },
    {
      "cell_type": "code",
      "source": [
        "# using interpolate\n",
        "df['sub3'] = df['sub3'].interpolate(method='linear',limit_direction='forward',axis=0)\n",
        "df['sub3'][:10]"
      ],
      "metadata": {
        "id": "LieIdgJjkXPx"
      },
      "execution_count": null,
      "outputs": []
    },
    {
      "cell_type": "code",
      "source": [
        "# Also do the same for categorical variables like ‘pass’.\n",
        "df['pass'].fillna('FAIL', inplace=True)\n",
        "print(df['pass'])"
      ],
      "metadata": {
        "id": "9F9rmmFl1cYf"
      },
      "execution_count": null,
      "outputs": []
    },
    {
      "cell_type": "code",
      "source": [
        "cnt=0\n",
        "for row in df[\"pass\"]:\n",
        "  try:\n",
        "    int(row)\n",
        "    df.loc[cnt,\"pass\"]=np.NaN\n",
        "  except ValueError:\n",
        "    pass\n",
        "  cnt+=1"
      ],
      "metadata": {
        "id": "Miute7hp1n_r"
      },
      "execution_count": 61,
      "outputs": []
    },
    {
      "cell_type": "code",
      "source": [
        "print(df['pass'])"
      ],
      "metadata": {
        "id": "QHoAz9342wer",
        "colab": {
          "base_uri": "https://localhost:8080/"
        },
        "outputId": "e8a629d7-75d9-4b33-b792-ce5401f55618"
      },
      "execution_count": 62,
      "outputs": [
        {
          "output_type": "stream",
          "name": "stdout",
          "text": [
            "0      NaN\n",
            "1      Yes\n",
            "2       na\n",
            "3       No\n",
            "4       No\n",
            "5      n.a\n",
            "6       No\n",
            "7      Yes\n",
            "8      Yes\n",
            "9      Yes\n",
            "10    FAIL\n",
            "11     Yes\n",
            "12      No\n",
            "13      No\n",
            "14      No\n",
            "15     Yes\n",
            "16      No\n",
            "17    FAIL\n",
            "18     Yes\n",
            "19     Yes\n",
            "20      No\n",
            "21      No\n",
            "22      No\n",
            "23      na\n",
            "Name: pass, dtype: object\n"
          ]
        }
      ]
    },
    {
      "cell_type": "code",
      "source": [
        "# Plot the Distribution plots for the features\n",
        "import warnings\n",
        "warnings.filterwarnings('ignore')\n",
        "plt.figure(figsize=(16,5))\n",
        "plt.subplot(1,2,1)\n",
        "sns.distplot(df['sub1'])\n",
        "plt.show()"
      ],
      "metadata": {
        "colab": {
          "base_uri": "https://localhost:8080/",
          "height": 334
        },
        "id": "IvBG_7djfqYF",
        "outputId": "cc7b5b72-8b0a-437d-ced4-d3e41a0a2dc8"
      },
      "execution_count": null,
      "outputs": [
        {
          "output_type": "display_data",
          "data": {
            "image/png": "[encoded data removed]",
            "text/plain": [
              "<Figure size 1152x360 with 1 Axes>"
            ]
          },
          "metadata": {
            "needs_background": "light"
          }
        }
      ]
    },
    {
      "cell_type": "code",
      "source": [
        "#Finding the Boundary Values\n",
        "print(\"Highest allowed\",df['sub1'].mean() + 3*df['sub1'].std())\n",
        "print(\"Lowest allowed\",df['sub1'].mean() - 3*df['sub1'].std())"
      ],
      "metadata": {
        "colab": {
          "base_uri": "https://localhost:8080/"
        },
        "id": "UHctSgPYgNDY",
        "outputId": "a64e9150-9b8e-4389-9f2e-44c6dcb43290"
      },
      "execution_count": null,
      "outputs": [
        {
          "output_type": "stream",
          "name": "stdout",
          "text": [
            "Highest allowed 105.38926605251008\n",
            "Lowest allowed -28.38926605251008\n"
          ]
        }
      ]
    },
    {
      "cell_type": "code",
      "source": [
        "# Finding the Outliers\n",
        "new_df = df[(df['sub1'] > 105.38) | (df['sub1'] < -28.38)]\n",
        "new_df"
      ],
      "metadata": {
        "colab": {
          "base_uri": "https://localhost:8080/",
          "height": 49
        },
        "id": "AWcEGm8mgXTJ",
        "outputId": "3b90a140-f90d-4bd3-9fc6-1fb7342d2b92"
      },
      "execution_count": null,
      "outputs": [
        {
          "output_type": "execute_result",
          "data": {
            "text/html": [
              "\n",
              "  <div id=\"df-0b812898-fbbf-44b6-8ac5-2714c81b2b94\">\n",
              "    <div class=\"colab-df-container\">\n",
              "      <div>\n",
              "<style scoped>\n",
              "    .dataframe tbody tr th:only-of-type {\n",
              "        vertical-align: middle;\n",
              "    }\n",
              "\n",
              "    .dataframe tbody tr th {\n",
              "        vertical-align: top;\n",
              "    }\n",
              "\n",
              "    .dataframe thead th {\n",
              "        text-align: right;\n",
              "    }\n",
              "</style>\n",
              "<table border=\"1\" class=\"dataframe\">\n",
              "  <thead>\n",
              "    <tr style=\"text-align: right;\">\n",
              "      <th></th>\n",
              "      <th>Roll</th>\n",
              "      <th>Name</th>\n",
              "      <th>gender</th>\n",
              "      <th>sub1</th>\n",
              "      <th>sub2</th>\n",
              "      <th>sub3</th>\n",
              "      <th>sub4</th>\n",
              "      <th>pass</th>\n",
              "    </tr>\n",
              "  </thead>\n",
              "  <tbody>\n",
              "  </tbody>\n",
              "</table>\n",
              "</div>\n",
              "      <button class=\"colab-df-convert\" onclick=\"convertToInteractive('df-0b812898-fbbf-44b6-8ac5-2714c81b2b94')\"\n",
              "              title=\"Convert this dataframe to an interactive table.\"\n",
              "              style=\"display:none;\">\n",
              "        \n",
              "  <svg xmlns=\"http://www.w3.org/2000/svg\" height=\"24px\"viewBox=\"0 0 24 24\"\n",
              "       width=\"24px\">\n",
              "    <path d=\"M0 0h24v24H0V0z\" fill=\"none\"/>\n",
              "    <path d=\"M18.56 5.44l.94 2.06.94-2.06 2.06-.94-2.06-.94-.94-2.06-.94 2.06-2.06.94zm-11 1L8.5 8.5l.94-2.06 2.06-.94-2.06-.94L8.5 2.5l-.94 2.06-2.06.94zm10 10l.94 2.06.94-2.06 2.06-.94-2.06-.94-.94-2.06-.94 2.06-2.06.94z\"/><path d=\"M17.41 7.96l-1.37-1.37c-.4-.4-.92-.59-1.43-.59-.52 0-1.04.2-1.43.59L10.3 9.45l-7.72 7.72c-.78.78-.78 2.05 0 2.83L4 21.41c.39.39.9.59 1.41.59.51 0 1.02-.2 1.41-.59l7.78-7.78 2.81-2.81c.8-.78.8-2.07 0-2.86zM5.41 20L4 18.59l7.72-7.72 1.47 1.35L5.41 20z\"/>\n",
              "  </svg>\n",
              "      </button>\n",
              "      \n",
              "  <style>\n",
              "    .colab-df-container {\n",
              "      display:flex;\n",
              "      flex-wrap:wrap;\n",
              "      gap: 12px;\n",
              "    }\n",
              "\n",
              "    .colab-df-convert {\n",
              "      background-color: #E8F0FE;\n",
              "      border: none;\n",
              "      border-radius: 50%;\n",
              "      cursor: pointer;\n",
              "      display: none;\n",
              "      fill: #1967D2;\n",
              "      height: 32px;\n",
              "      padding: 0 0 0 0;\n",
              "      width: 32px;\n",
              "    }\n",
              "\n",
              "    .colab-df-convert:hover {\n",
              "      background-color: #E2EBFA;\n",
              "      box-shadow: 0px 1px 2px rgba(60, 64, 67, 0.3), 0px 1px 3px 1px rgba(60, 64, 67, 0.15);\n",
              "      fill: #174EA6;\n",
              "    }\n",
              "\n",
              "    [theme=dark] .colab-df-convert {\n",
              "      background-color: #3B4455;\n",
              "      fill: #D2E3FC;\n",
              "    }\n",
              "\n",
              "    [theme=dark] .colab-df-convert:hover {\n",
              "      background-color: #434B5C;\n",
              "      box-shadow: 0px 1px 3px 1px rgba(0, 0, 0, 0.15);\n",
              "      filter: drop-shadow(0px 1px 2px rgba(0, 0, 0, 0.3));\n",
              "      fill: #FFFFFF;\n",
              "    }\n",
              "  </style>\n",
              "\n",
              "      <script>\n",
              "        const buttonEl =\n",
              "          document.querySelector('#df-0b812898-fbbf-44b6-8ac5-2714c81b2b94 button.colab-df-convert');\n",
              "        buttonEl.style.display =\n",
              "          google.colab.kernel.accessAllowed ? 'block' : 'none';\n",
              "\n",
              "        async function convertToInteractive(key) {\n",
              "          const element = document.querySelector('#df-0b812898-fbbf-44b6-8ac5-2714c81b2b94');\n",
              "          const dataTable =\n",
              "            await google.colab.kernel.invokeFunction('convertToInteractive',\n",
              "                                                     [key], {});\n",
              "          if (!dataTable) return;\n",
              "\n",
              "          const docLinkHtml = 'Like what you see? Visit the ' +\n",
              "            '<a target=\"_blank\" href=https://colab.research.google.com/notebooks/data_table.ipynb>data table notebook</a>'\n",
              "            + ' to learn more about interactive tables.';\n",
              "          element.innerHTML = '';\n",
              "          dataTable['output_type'] = 'display_data';\n",
              "          await google.colab.output.renderOutput(dataTable, element);\n",
              "          const docLink = document.createElement('div');\n",
              "          docLink.innerHTML = docLinkHtml;\n",
              "          element.appendChild(docLink);\n",
              "        }\n",
              "      </script>\n",
              "    </div>\n",
              "  </div>\n",
              "  "
            ],
            "text/plain": [
              "Empty DataFrame\n",
              "Columns: [Roll, Name, gender, sub1, sub2, sub3, sub4, pass]\n",
              "Index: []"
            ]
          },
          "metadata": {},
          "execution_count": 50
        }
      ]
    },
    {
      "cell_type": "code",
      "source": [
        "# Trimming of Outliers\n",
        "new_df = df[(df['sub1'] < 105.38) & (df['sub1'] > -28.38)]\n",
        "new_df"
      ],
      "metadata": {
        "id": "STmy77T30ejx"
      },
      "execution_count": null,
      "outputs": []
    },
    {
      "cell_type": "code",
      "source": [
        "# Capping on Outliers\n",
        "upper_limit = df['sub1'].mean() + 3*df['sub1'].std()\n",
        "lower_limit = df['sub1'].mean() - 3*df['sub1'].std()"
      ],
      "metadata": {
        "id": "JDtN2Cj7012x"
      },
      "execution_count": null,
      "outputs": []
    },
    {
      "cell_type": "code",
      "source": [
        "# Now, apply the Capping\n",
        "\n",
        "df['sub1'] = np.where(\n",
        "    df['sub1']>upper_limit,\n",
        "    upper_limit,\n",
        "    np.where(\n",
        "        df['sub1']<lower_limit,\n",
        "        lower_limit,\n",
        "        df['sub1']\n",
        "    )\n",
        ")"
      ],
      "metadata": {
        "id": "IAgDWWFH1K5K"
      },
      "execution_count": null,
      "outputs": []
    },
    {
      "cell_type": "code",
      "source": [
        "# Now see the statistics using “Describe” Function\n",
        "print(df['sub1'].describe())"
      ],
      "metadata": {
        "id": "_scjWHAA1Ozi"
      },
      "execution_count": null,
      "outputs": []
    }
  ]
}